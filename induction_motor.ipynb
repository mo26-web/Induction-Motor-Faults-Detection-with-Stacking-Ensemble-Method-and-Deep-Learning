{
  "nbformat": 4,
  "nbformat_minor": 0,
  "metadata": {
    "colab": {
      "name": "induction-motor.ipynb",
      "provenance": [],
      "collapsed_sections": []
    },
    "kernelspec": {
      "name": "python3",
      "display_name": "Python 3"
    },
    "language_info": {
      "name": "python"
    }
  },
  "cells": [
    {
      "cell_type": "code",
      "source": [
        "from google.colab import drive\n",
        "drive.mount(\"/content/gdrive\", force_remount=True)"
      ],
      "metadata": {
        "colab": {
          "base_uri": "https://localhost:8080/"
        },
        "id": "TT6TOX4AHDx0",
        "outputId": "ae12fe31-655c-401d-d49f-5cefcc87206b"
      },
      "execution_count": 1,
      "outputs": [
        {
          "output_type": "stream",
          "name": "stdout",
          "text": [
            "Mounted at /content/gdrive\n"
          ]
        }
      ]
    },
    {
      "cell_type": "code",
      "source": [
        "%cd /content/gdrive/MyDrive/Induction\n"
      ],
      "metadata": {
        "colab": {
          "base_uri": "https://localhost:8080/"
        },
        "id": "raY5cdtqHM23",
        "outputId": "140e2dfb-8281-48bc-9c0b-0747d2f3fb52"
      },
      "execution_count": null,
      "outputs": [
        {
          "output_type": "stream",
          "name": "stdout",
          "text": [
            "/content/gdrive/MyDrive/Induction\n"
          ]
        }
      ]
    },
    {
      "cell_type": "code",
      "source": [
        "import os\n",
        "os.environ['KAGGLE_CONFIG_DIR'] = \"/content/gdrive/MyDrive/Induction\""
      ],
      "metadata": {
        "id": "YkdR3BxxHksD"
      },
      "execution_count": null,
      "outputs": []
    },
    {
      "cell_type": "code",
      "source": [
        "!kaggle datasets download -d uysalserkan/fault-induction-motor-dataset"
      ],
      "metadata": {
        "id": "0fH-S-7OH5jb"
      },
      "execution_count": null,
      "outputs": []
    },
    {
      "cell_type": "code",
      "source": [
        "!unzip /content/gdrive/MyDrive/Induction/fault-induction-motor-dataset.zip"
      ],
      "metadata": {
        "id": "S3rAUDPbISGr"
      },
      "execution_count": null,
      "outputs": []
    },
    {
      "cell_type": "code",
      "source": [
        "import numpy as np # linear algebra\n",
        "import pandas as pd # data processing, CSV file I/O (e.g. pd.read_csv)\n",
        "import os\n",
        "import glob\n",
        "from scipy import stats\n",
        "from tensorflow.keras.losses import binary_crossentropy, mean_squared_error\n",
        "import tensorflow.keras.backend as K\n",
        "from keras.models import Sequential\n",
        "from tensorflow.keras.models import Model\n",
        "from tensorflow.keras.layers import Input, concatenate, Dense, BatchNormalization, add, concatenate, Lambda, Flatten\n",
        "from tensorflow.keras.optimizers import RMSprop,Adam\n",
        "from tensorflow.python.keras import regularizers\n",
        "import tensorflow.keras as keras \n",
        "import tensorflow as tf\n",
        "import numpy as np \n",
        "import cv2 \n",
        "import os \n",
        "from scipy import stats\n",
        "from sklearn.preprocessing import LabelEncoder\n",
        "import matplotlib.pyplot as plt\n",
        "from sklearn.semi_supervised import SelfTrainingClassifier\n",
        "from sklearn.svm import SVC\n",
        "svc = SVC(probability=True, gamma=\"auto\")\n",
        "from keras.wrappers.scikit_learn import KerasClassifier\n"
      ],
      "metadata": {
        "id": "ASmJ6ntTII40"
      },
      "execution_count": 2,
      "outputs": []
    },
    {
      "cell_type": "code",
      "source": [
        "normal_file_names = glob.glob(\"/content/gdrive/MyDrive/Induction/normal/normal/*.csv\")\n",
        "imnormal_file_names_6g = glob.glob(\"/content/gdrive/MyDrive/Induction/imbalance/imbalance/6g/*.csv\")\n",
        "imnormal_file_names_10g = glob.glob(\"/content/gdrive/MyDrive/Induction/imbalance/imbalance/10g/*.csv\")\n",
        "imnormal_file_names_15g = glob.glob(\"/content/gdrive/MyDrive/Induction/imbalance/imbalance/15g/*.csv\")\n",
        "imnormal_file_names_20g = glob.glob(\"/content/gdrive/MyDrive/Induction/imbalance/imbalance/20g/*.csv\")\n",
        "imnormal_file_names_25g = glob.glob(\"/content/gdrive/MyDrive/Induction/imbalance/imbalance/25g/*.csv\")\n",
        "imnormal_file_names_30g = glob.glob(\"/content/gdrive/MyDrive/Induction/imbalance/imbalance/30g/*.csv\")\n",
        "imnormal_file_names_35g = glob.glob(\"/content/gdrive/MyDrive/Induction/imbalance/imbalance/35g/*.csv\")"
      ],
      "metadata": {
        "id": "yu6EtSPqWFuE"
      },
      "execution_count": 3,
      "outputs": []
    },
    {
      "cell_type": "code",
      "source": [
        "def dataReader(path_names):\n",
        "    data_n = pd.DataFrame()\n",
        "    for i in path_names:\n",
        "        low_data = pd.read_csv(i,header=None)\n",
        "        data_n = pd.concat([data_n,low_data],ignore_index=True)\n",
        "    return data_n"
      ],
      "metadata": {
        "id": "HoY61ZGZWeLE"
      },
      "execution_count": 4,
      "outputs": []
    },
    {
      "cell_type": "code",
      "source": [
        "data_n = dataReader(normal_file_names)\n",
        "data_6g = dataReader(imnormal_file_names_6g)\n",
        "data_10g = dataReader(imnormal_file_names_10g)\n",
        "data_15g = dataReader(imnormal_file_names_15g)\n",
        "data_20g = dataReader(imnormal_file_names_20g)\n",
        "data_25g = dataReader(imnormal_file_names_25g)\n",
        "data_30g = dataReader(imnormal_file_names_30g)\n",
        "data_35g = dataReader(imnormal_file_names_35g)"
      ],
      "metadata": {
        "id": "MLEMydFoWgLi"
      },
      "execution_count": 5,
      "outputs": []
    },
    {
      "cell_type": "code",
      "source": [
        "data_n.info()\n"
      ],
      "metadata": {
        "colab": {
          "base_uri": "https://localhost:8080/"
        },
        "id": "rr3P5etmWpTR",
        "outputId": "7f6e7fce-a09a-491c-9d87-8193f57a793e"
      },
      "execution_count": null,
      "outputs": [
        {
          "output_type": "stream",
          "name": "stdout",
          "text": [
            "<class 'pandas.core.frame.DataFrame'>\n",
            "RangeIndex: 12250000 entries, 0 to 12249999\n",
            "Data columns (total 8 columns):\n",
            " #   Column  Dtype  \n",
            "---  ------  -----  \n",
            " 0   0       float64\n",
            " 1   1       float64\n",
            " 2   2       float64\n",
            " 3   3       float64\n",
            " 4   4       float64\n",
            " 5   5       float64\n",
            " 6   6       float64\n",
            " 7   7       float64\n",
            "dtypes: float64(8)\n",
            "memory usage: 747.7 MB\n"
          ]
        }
      ]
    },
    {
      "cell_type": "code",
      "source": [
        "print(data_n.shape)\n",
        "print(data_6g.shape)"
      ],
      "metadata": {
        "colab": {
          "base_uri": "https://localhost:8080/"
        },
        "id": "lyk8PEqPnVjP",
        "outputId": "63e2f527-791b-4d0d-86d0-14623f5f2141"
      },
      "execution_count": null,
      "outputs": [
        {
          "output_type": "stream",
          "name": "stdout",
          "text": [
            "(12250000, 8)\n",
            "(12250000, 8)\n"
          ]
        }
      ]
    },
    {
      "cell_type": "code",
      "source": [
        "def downSampler(data,a,b):\n",
        "    \"\"\"\n",
        "    data = data\n",
        "    a = start index\n",
        "    b = sampling rate\n",
        "    \"\"\"\n",
        "    data_decreased = pd.DataFrame()\n",
        "    x = b\n",
        "    for i in range(int(len(data)/x)):\n",
        "        data_decreased = data_decreased.append(data.iloc[a:b,:].sum()/x,ignore_index=True)\n",
        "        a += x\n",
        "        b += x\n",
        "    return data_decreased"
      ],
      "metadata": {
        "id": "3xm9rBKGWrpK"
      },
      "execution_count": 6,
      "outputs": []
    },
    {
      "cell_type": "code",
      "source": [
        "data_n = downSampler(data_n, 0, 300)\n",
        "data_6g = downSampler(data_6g, 0, 300)\n",
        "data_10g = downSampler(data_10g, 0, 300)\n",
        "data_15g = downSampler(data_15g, 0, 300)\n",
        "data_20g = downSampler(data_20g, 0, 300)\n",
        "data_25g = downSampler(data_25g, 0, 300)\n",
        "data_30g = downSampler(data_30g, 0, 300)\n",
        "data_35g = downSampler(data_35g, 0, 300)"
      ],
      "metadata": {
        "id": "UYyh0orZWwzg"
      },
      "execution_count": 7,
      "outputs": []
    },
    {
      "cell_type": "code",
      "source": [
        "data_n.shape"
      ],
      "metadata": {
        "colab": {
          "base_uri": "https://localhost:8080/"
        },
        "id": "QRSBL3IxmbmN",
        "outputId": "bb53417b-c5b9-4d53-dd11-0cf3632c8001"
      },
      "execution_count": null,
      "outputs": [
        {
          "output_type": "execute_result",
          "data": {
            "text/plain": [
              "(40833, 8)"
            ]
          },
          "metadata": {},
          "execution_count": 12
        }
      ]
    },
    {
      "cell_type": "code",
      "source": [
        "import matplotlib.pyplot as plt\n",
        "fig, axs = plt.subplots(8, sharex=False, sharey=False,figsize=(15,15))\n",
        "fig.suptitle('All Features of Normal State')\n",
        "for i in data_n.columns:\n",
        "    axs[i].plot(data_n[i])\n",
        "    axs[i].set_title('{} Column of Dataset'.format(i))"
      ],
      "metadata": {
        "id": "GKvlf5CcW0F5"
      },
      "execution_count": null,
      "outputs": []
    },
    {
      "cell_type": "code",
      "source": [
        "import matplotlib.pyplot as plt\n",
        "fig, axs = plt.subplots(8, sharex=False, sharey=False,figsize=(15,15))\n",
        "fig.suptitle('All Features of Normal State')\n",
        "for i in data_6g.columns:\n",
        "    axs[i].plot(data_n[i])\n",
        "    axs[i].set_title('{} Column of Anormal State'.format(i))"
      ],
      "metadata": {
        "id": "960TEa0QW62H"
      },
      "execution_count": null,
      "outputs": []
    },
    {
      "cell_type": "code",
      "source": [
        "from scipy import signal\n",
        "def FFT(data):\n",
        "    autocorr = signal.fftconvolve(data,data[::-1],mode='full')\n",
        "    return pd.DataFrame(autocorr)"
      ],
      "metadata": {
        "id": "ps9COfQPZak2"
      },
      "execution_count": 8,
      "outputs": []
    },
    {
      "cell_type": "code",
      "source": [
        "data_n = FFT(data_n)\n",
        "data_6g = FFT(data_6g)\n",
        "data_10g = FFT(data_10g)\n",
        "data_15g = FFT(data_15g)\n",
        "data_20g = FFT(data_20g)\n",
        "data_25g = FFT(data_25g)\n",
        "data_30g = FFT(data_30g)\n",
        "data_35g = FFT(data_35g)"
      ],
      "metadata": {
        "id": "5N8UxgYGZdVo"
      },
      "execution_count": 9,
      "outputs": []
    },
    {
      "cell_type": "code",
      "source": [
        "y_1 = pd.DataFrame(np.ones(int(len(data_n)),dtype=int))\n",
        "y_2 = pd.DataFrame(np.zeros(int(len(data_6g)),dtype=int))\n",
        "y_3 = pd.DataFrame(np.full((int(len(data_10g)),1),2))\n",
        "y_4 = pd.DataFrame(np.full((int(len(data_15g)),1),3))\n",
        "y_5 = pd.DataFrame(np.full((int(len(data_20g)),1),4))\n",
        "y_6 = pd.DataFrame(np.full((int(len(data_25g)),1),5))\n",
        "y_7 = pd.DataFrame(np.full((int(len(data_30g)),1),6))\n",
        "y_8 = pd.DataFrame(np.full((int(len(data_35g)),1),7))\n",
        "\n",
        "y = pd.concat([y_1,y_2,y_3,y_4,y_5,y_6,y_7,y_8], ignore_index=True)\n",
        "from sklearn.preprocessing import LabelEncoder\n",
        "y = LabelEncoder().fit_transform(y)\n"
      ],
      "metadata": {
        "id": "c8RO6UPfZoLV"
      },
      "execution_count": null,
      "outputs": []
    },
    {
      "cell_type": "code",
      "source": [
        "data = pd.concat([data_n,data_6g,data_10g,data_15g,data_20g,data_25g,data_30g,data_35g],ignore_index=True)\n",
        "data"
      ],
      "metadata": {
        "id": "8FRd8ddUZrcd"
      },
      "execution_count": null,
      "outputs": []
    },
    {
      "cell_type": "code",
      "source": [
        "from sklearn.model_selection import train_test_split\n",
        "X_train, X_test, y_train, y_test = train_test_split(data,y, test_size=0.3, shuffle=True)"
      ],
      "metadata": {
        "id": "lqFFCwJ-dZjG"
      },
      "execution_count": 12,
      "outputs": []
    },
    {
      "cell_type": "code",
      "source": [
        "checkpoint=keras.callbacks.ModelCheckpoint(\n",
        "        filepath='best_model.{epoch:02d}-{val_loss:.2f}.h5',\n",
        "        monitor='val_loss', save_best_only=True),\n",
        "early_stopping=keras.callbacks.EarlyStopping(monitor='val_loss', min_delta=0.01, patience=1, verbose=1, mode='auto', baseline=None, restore_best_weights=True)\n",
        "\n",
        "reduce_LOP=tf.keras.callbacks.ReduceLROnPlateau(monitor='val_loss', factor=0.1, patience=2, verbose=1, mode='auto', min_delta=0.01, cooldown=0, min_lr=0.001)\n",
        "Callbacks=[checkpoint,reduce_LOP]"
      ],
      "metadata": {
        "id": "LeJJhcxAhRSb"
      },
      "execution_count": 25,
      "outputs": []
    },
    {
      "cell_type": "code",
      "source": [
        "def create_model():\n",
        "  model = Sequential()\n",
        "  model.add(Dense(32, activation='LeakyReLU', input_shape=(15,),kernel_initializer='random_uniform'))\n",
        "  model.add(Dense(64, activation='LeakyReLU',kernel_initializer='random_uniform'))\n",
        "  model.add(Dense(128, activation='LeakyReLU',kernel_initializer='random_uniform'))\n",
        "  model.add(Dense(64, activation='LeakyReLU',kernel_initializer='random_uniform'))\n",
        "  model.add(Dense(32, activation='LeakyReLU',kernel_initializer='random_uniform'))\n",
        "  model.add(Dense(8, activation='softmax',kernel_initializer='random_uniform'))\n",
        "\n",
        "  model.compile(loss='sparse_categorical_crossentropy',optimizer=tf.keras.optimizers.Adam(), metrics=['accuracy'])\n",
        "  return model"
      ],
      "metadata": {
        "id": "LtIhMjLtmfe1"
      },
      "execution_count": 26,
      "outputs": []
    },
    {
      "cell_type": "code",
      "source": [
        "model=create_model()\n",
        "model.summary()"
      ],
      "metadata": {
        "colab": {
          "base_uri": "https://localhost:8080/"
        },
        "id": "7bXCYcDEv0Qi",
        "outputId": "aad119a9-c039-40c0-8d88-d7fdda9dd61f"
      },
      "execution_count": 27,
      "outputs": [
        {
          "output_type": "stream",
          "name": "stdout",
          "text": [
            "Model: \"sequential_8\"\n",
            "_________________________________________________________________\n",
            " Layer (type)                Output Shape              Param #   \n",
            "=================================================================\n",
            " dense_48 (Dense)            (None, 32)                512       \n",
            "                                                                 \n",
            " dense_49 (Dense)            (None, 64)                2112      \n",
            "                                                                 \n",
            " dense_50 (Dense)            (None, 128)               8320      \n",
            "                                                                 \n",
            " dense_51 (Dense)            (None, 64)                8256      \n",
            "                                                                 \n",
            " dense_52 (Dense)            (None, 32)                2080      \n",
            "                                                                 \n",
            " dense_53 (Dense)            (None, 8)                 264       \n",
            "                                                                 \n",
            "=================================================================\n",
            "Total params: 21,544\n",
            "Trainable params: 21,544\n",
            "Non-trainable params: 0\n",
            "_________________________________________________________________\n"
          ]
        }
      ]
    },
    {
      "cell_type": "code",
      "source": [
        "#initialize random seeds so results are repeatable\n",
        "import random\n",
        "import tensorflow as tf\n",
        "\n",
        "random.seed(1)\n",
        "np.random.seed(1)\n",
        "tf.random.set_seed(1)"
      ],
      "metadata": {
        "id": "JV5uKyE4mxYJ"
      },
      "execution_count": 28,
      "outputs": []
    },
    {
      "cell_type": "code",
      "source": [
        "!pip install scikeras\n",
        "from scikeras.wrappers import KerasClassifier"
      ],
      "metadata": {
        "id": "aH4hg2C6KBMi"
      },
      "execution_count": null,
      "outputs": []
    },
    {
      "cell_type": "code",
      "source": [
        "model = KerasClassifier(build_fn=create_model, epochs=40, batch_size=128, verbose=1)\n",
        "model._estimator_type = \"classifier\"\n",
        "\n",
        "#self_training_model = SelfTrainingClassifier(model)\n",
        "#history=model.fit(X_train, y_train, epochs=40, batch_size=128, verbose=1,validation_data=(X_test, y_test),callbacks=Callbacks)"
      ],
      "metadata": {
        "id": "Uiox7G5LlFoI"
      },
      "execution_count": null,
      "outputs": []
    },
    {
      "cell_type": "code",
      "source": [
        "results1=model.predict(X_train)\n",
        "results2=model.predict(X_test)"
      ],
      "metadata": {
        "id": "okZPEHInEnfo"
      },
      "execution_count": null,
      "outputs": []
    },
    {
      "cell_type": "code",
      "source": [
        "from sklearn.ensemble import RandomForestClassifier\n",
        "from sklearn.svm import LinearSVC\n",
        "from sklearn.linear_model import LogisticRegression\n",
        "from sklearn.pipeline import make_pipeline\n",
        "from sklearn.ensemble import StackingClassifier\n",
        "estimators = [\n",
        "    ('rf', RandomForestClassifier(n_estimators=10, random_state=42)),\n",
        "     ('svr', make_pipeline(\n",
        "                           LinearSVC(random_state=42)))]\n",
        "\n",
        "clf = StackingClassifier(estimators=estimators, final_estimator=LogisticRegression())\n",
        "clf.fit(X_train, y_train)"
      ],
      "metadata": {
        "id": "gnj2fiSXmc3Y"
      },
      "execution_count": null,
      "outputs": []
    },
    {
      "cell_type": "code",
      "source": [
        "from sklearn.ensemble import RandomForestClassifier\n",
        "from sklearn.svm import LinearSVC\n",
        "from sklearn.linear_model import LogisticRegression\n",
        "from sklearn.pipeline import make_pipeline\n",
        "from sklearn.ensemble import StackingClassifier\n",
        "estimators = [\n",
        "    ('rf', RandomForestClassifier(n_estimators=10, random_state=42)),\n",
        "     ('svr', make_pipeline(\n",
        "                           model))]\n",
        "\n",
        "clf = StackingClassifier(estimators=estimators, final_estimator=LogisticRegression())\n",
        "clf.fit(X_train, y_train)"
      ],
      "metadata": {
        "id": "pMHxffRfSlNU"
      },
      "execution_count": null,
      "outputs": []
    },
    {
      "cell_type": "code",
      "source": [
        "results1=clf.predict(X_train)\n",
        "results2=clf.predict(X_test)"
      ],
      "metadata": {
        "id": "sUnApiHUuMj5"
      },
      "execution_count": 32,
      "outputs": []
    },
    {
      "cell_type": "code",
      "source": [
        "from sklearn.metrics import classification_report\n",
        "LABELS = [\n",
        "    'normal',\n",
        "    'imbalance 6g',\n",
        "    'imbalance 10g',\n",
        "    'imbalance 15g',\n",
        "    'imbalance 20g',\n",
        "    'imbalance 25g',\n",
        "    'imbalance 30g',\n",
        "    'imbalance 35g',\n",
        "\n",
        "]\n",
        "\n",
        "print(classification_report(y_true = y_train, y_pred = results1,target_names=LABELS))\n",
        "print(classification_report(y_true = y_test, y_pred = results2,target_names=LABELS))"
      ],
      "metadata": {
        "colab": {
          "base_uri": "https://localhost:8080/"
        },
        "id": "QmDOQSiutSAP",
        "outputId": "f0c6dfa1-9f00-4fcd-bf67-3585799d6a06"
      },
      "execution_count": 33,
      "outputs": [
        {
          "output_type": "stream",
          "name": "stdout",
          "text": [
            "               precision    recall  f1-score   support\n",
            "\n",
            "       normal       1.00      1.00      1.00     56940\n",
            " imbalance 6g       1.00      1.00      1.00     57112\n",
            "imbalance 10g       1.00      1.00      1.00     56180\n",
            "imbalance 15g       1.00      1.00      1.00     55992\n",
            "imbalance 20g       1.00      1.00      1.00     57193\n",
            "imbalance 25g       1.00      1.00      1.00     55023\n",
            "imbalance 30g       1.00      1.00      1.00     54755\n",
            "imbalance 35g       1.00      1.00      1.00     52462\n",
            "\n",
            "     accuracy                           1.00    445657\n",
            "    macro avg       1.00      1.00      1.00    445657\n",
            " weighted avg       1.00      1.00      1.00    445657\n",
            "\n",
            "               precision    recall  f1-score   support\n",
            "\n",
            "       normal       0.99      1.00      0.99     24725\n",
            " imbalance 6g       1.00      1.00      1.00     24553\n",
            "imbalance 10g       1.00      1.00      1.00     23819\n",
            "imbalance 15g       0.96      0.96      0.96     24007\n",
            "imbalance 20g       0.96      0.96      0.96     24472\n",
            "imbalance 25g       0.96      0.96      0.96     23308\n",
            "imbalance 30g       0.98      0.98      0.98     23576\n",
            "imbalance 35g       0.98      0.98      0.98     22537\n",
            "\n",
            "     accuracy                           0.98    190997\n",
            "    macro avg       0.98      0.98      0.98    190997\n",
            " weighted avg       0.98      0.98      0.98    190997\n",
            "\n"
          ]
        }
      ]
    },
    {
      "cell_type": "code",
      "source": [
        "from sklearn.metrics import confusion_matrix\n",
        "from mlxtend.plotting import plot_confusion_matrix\n",
        "import matplotlib.pyplot as plt\n",
        "import numpy as np\n",
        "\n",
        "class_names = [\n",
        "    'normal',\n",
        "    'imbalance 6g',\n",
        "    'imbalance 10g',\n",
        "    'imbalance 15g',\n",
        "    'imbalance 20g',\n",
        "    'imbalance 25g',\n",
        "    'imbalance 30g',\n",
        "    'imbalance 35g',\n",
        "\n",
        "]\n",
        "\n",
        "conf_matrix = confusion_matrix(y_true = y_train, y_pred = results1)\n",
        "binary1 = conf_matrix \n",
        "\n",
        "fig, ax = plot_confusion_matrix(conf_mat=binary1, figsize=(10, 10),\n",
        "                                show_absolute=True,\n",
        "                                show_normed=True,\n",
        "                                colorbar=True,\n",
        "                                 )\n",
        "plt.title('Confusion Matrix(Train Data)')\n",
        "\n",
        "plt.show()\n",
        "\n"
      ],
      "metadata": {
        "colab": {
          "base_uri": "https://localhost:8080/",
          "height": 580
        },
        "id": "_wcxEYnst7Oi",
        "outputId": "073bfec0-1655-484a-ef06-64548d2891fd"
      },
      "execution_count": 34,
      "outputs": [
        {
          "output_type": "display_data",
          "data": {
            "text/plain": [
              "<Figure size 720x720 with 2 Axes>"
            ],
            "image/png": "[encoded data removed]"
          },
          "metadata": {
            "needs_background": "light"
          }
        }
      ]
    },
    {
      "cell_type": "code",
      "source": [
        "conf_matrix = confusion_matrix(y_true = y_test, y_pred = results2)\n",
        "binary1 = conf_matrix \n",
        "\n",
        "fig, ax = plot_confusion_matrix(conf_mat=binary1,figsize=(10, 10),\n",
        "                                show_absolute=True,\n",
        "                                show_normed=True,\n",
        "                                colorbar=True,\n",
        "                                 )\n",
        "plt.title('Confusion Matrix(Test Data)')\n",
        "plt.show()"
      ],
      "metadata": {
        "colab": {
          "base_uri": "https://localhost:8080/",
          "height": 580
        },
        "id": "k_SSVcM-yJt-",
        "outputId": "78bd53a4-b48c-4025-c87f-5cc27847c421"
      },
      "execution_count": 37,
      "outputs": [
        {
          "output_type": "display_data",
          "data": {
            "text/plain": [
              "<Figure size 720x720 with 2 Axes>"
            ],
            "image/png": "[encoded data removed]"
          },
          "metadata": {
            "needs_background": "light"
          }
        }
      ]
    }
  ]
}